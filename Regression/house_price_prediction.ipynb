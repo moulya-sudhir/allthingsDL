{
 "cells": [
  {
   "cell_type": "markdown",
   "metadata": {},
   "source": [
    "#### Import necessary libraries"
   ]
  },
  {
   "cell_type": "code",
   "execution_count": 81,
   "metadata": {},
   "outputs": [],
   "source": [
    "import torch\n",
    "from torch import nn\n",
    "from torch import optim\n",
    "from sklearn.datasets import fetch_california_housing\n",
    "from sklearn.model_selection import train_test_split\n",
    "from sklearn.preprocessing import StandardScaler\n",
    "from torch.utils.data import DataLoader, Dataset\n",
    "import matplotlib.pyplot as plt"
   ]
  },
  {
   "cell_type": "markdown",
   "metadata": {},
   "source": [
    "#### Prepare Data for Training"
   ]
  },
  {
   "cell_type": "code",
   "execution_count": 35,
   "metadata": {},
   "outputs": [
    {
     "name": "stdout",
     "output_type": "stream",
     "text": [
      "Feature names: ['MedInc', 'HouseAge', 'AveRooms', 'AveBedrms', 'Population', 'AveOccup', 'Latitude', 'Longitude']\n",
      "Features shape: (20640, 8)\n",
      "Label shape: (20640,)\n",
      "Single data point features: [   8.3252       41.            6.98412698    1.02380952  322.\n",
      "    2.55555556   37.88       -122.23      ]\n",
      "Single data point label: 4.526\n"
     ]
    }
   ],
   "source": [
    "data = fetch_california_housing()\n",
    "print(f'Feature names: {data.feature_names}')\n",
    "X, y = data.data, data.target\n",
    "print(f'Features shape: {X.shape}\\nLabel shape: {y.shape}')\n",
    "print(f'Single data point features: {X[0]}')\n",
    "print(f'Single data point label: {y[0]}')"
   ]
  },
  {
   "cell_type": "code",
   "execution_count": 36,
   "metadata": {},
   "outputs": [
    {
     "name": "stdout",
     "output_type": "stream",
     "text": [
      "Single data point features: [-0.66799975  0.66905917 -0.65979216  0.01685023  0.37795143 -0.23580601\n",
      "  1.0184647  -1.34097203]\n"
     ]
    }
   ],
   "source": [
    "X_train, X_test, y_train, y_test = train_test_split(X, y, test_size=0.3)\n",
    "standard_scaler = StandardScaler().fit(X_train)\n",
    "X_train = standard_scaler.transform(X_train)\n",
    "X_test = standard_scaler.transform(X_test)\n",
    "print(f'Single data point features: {X_train[0]}')"
   ]
  },
  {
   "cell_type": "code",
   "execution_count": 38,
   "metadata": {},
   "outputs": [],
   "source": [
    "class HousingData(Dataset):\n",
    "    def __init__(self, features, labels):\n",
    "        self.features = features\n",
    "        self.labels = labels\n",
    "        \n",
    "    def __len__(self):\n",
    "        return len(self.features)\n",
    "    \n",
    "    def __getitem__(self, index):\n",
    "        return self.features[index], self.labels[index]\n",
    "\n",
    "X_train = torch.from_numpy(X_train).type(torch.float32)\n",
    "X_test = torch.from_numpy(X_test).type(torch.float32)\n",
    "y_train = torch.from_numpy(y_train).type(torch.float32)\n",
    "y_test = torch.from_numpy(y_test).type(torch.float32)\n",
    "train_data = HousingData(features=X_train, labels=y_train)\n",
    "test_data = HousingData(features=X_test, labels=y_test)"
   ]
  },
  {
   "cell_type": "code",
   "execution_count": 39,
   "metadata": {},
   "outputs": [],
   "source": [
    "train_loader = DataLoader(\n",
    "    dataset=train_data,\n",
    "    batch_size=64,\n",
    "    shuffle=True\n",
    ")\n",
    "\n",
    "test_loader = DataLoader(\n",
    "    dataset = test_data,\n",
    "    batch_size=64,\n",
    "    shuffle=False\n",
    ")"
   ]
  },
  {
   "cell_type": "markdown",
   "metadata": {},
   "source": [
    "#### Define Model and Hyperparameters"
   ]
  },
  {
   "cell_type": "code",
   "execution_count": 76,
   "metadata": {},
   "outputs": [],
   "source": [
    "class Model(nn.Module):\n",
    "    def __init__(self):\n",
    "        super().__init__()\n",
    "        self.sequential = nn.Sequential(\n",
    "            nn.Linear(8, 24),\n",
    "            nn.ReLU(),\n",
    "            nn.Linear(24, 12),\n",
    "            nn.ReLU(),\n",
    "            nn.Linear(12, 6),\n",
    "            nn.ReLU(),\n",
    "            nn.Linear(6, 1)\n",
    "        )\n",
    "    \n",
    "    def forward(self, x):\n",
    "        return self.sequential(x)"
   ]
  },
  {
   "cell_type": "code",
   "execution_count": 77,
   "metadata": {},
   "outputs": [
    {
     "data": {
      "text/plain": [
       "Model(\n",
       "  (sequential): Sequential(\n",
       "    (0): Linear(in_features=8, out_features=24, bias=True)\n",
       "    (1): ReLU()\n",
       "    (2): Linear(in_features=24, out_features=12, bias=True)\n",
       "    (3): ReLU()\n",
       "    (4): Linear(in_features=12, out_features=6, bias=True)\n",
       "    (5): ReLU()\n",
       "    (6): Linear(in_features=6, out_features=1, bias=True)\n",
       "  )\n",
       ")"
      ]
     },
     "execution_count": 77,
     "metadata": {},
     "output_type": "execute_result"
    }
   ],
   "source": [
    "model = Model()\n",
    "model"
   ]
  },
  {
   "cell_type": "code",
   "execution_count": 78,
   "metadata": {},
   "outputs": [],
   "source": [
    "loss_fn = nn.MSELoss()\n",
    "optimizer = optim.Adam(params=model.parameters(), lr=0.001)\n",
    "epochs = 50"
   ]
  },
  {
   "cell_type": "markdown",
   "metadata": {},
   "source": [
    "#### Define Training, Testing and Eval Functions"
   ]
  },
  {
   "cell_type": "code",
   "execution_count": 79,
   "metadata": {},
   "outputs": [],
   "source": [
    "def train_step(model, data_loader, loss_fn, optimizer):\n",
    "    train_loss = 0\n",
    "    model.train()\n",
    "    for batch_idx, (X, y) in enumerate(data_loader):\n",
    "        y_pred = model(X)\n",
    "        loss = loss_fn(y_pred.squeeze(), y)\n",
    "        optimizer.zero_grad()\n",
    "        loss.backward()\n",
    "        optimizer.step()\n",
    "        train_loss += loss.item()\n",
    "    train_loss /= len(data_loader)\n",
    "    print(f'Train loss: {train_loss:.5f}')\n",
    "    return train_loss\n",
    "\n",
    "def test_step(model, data_loader, loss_fn):\n",
    "    test_loss = 0\n",
    "    model.eval()\n",
    "    with torch.inference_mode():\n",
    "        for X, y in data_loader:\n",
    "            y_pred = model(X)\n",
    "            loss = loss_fn(y_pred.squeeze(), y)\n",
    "            test_loss += loss.item()\n",
    "    test_loss /= len(data_loader)\n",
    "    print(f'Test loss: {test_loss:.5f}')\n",
    "    return test_loss\n",
    "\n",
    "def eval_mode(model, data_loader, loss_fn):\n",
    "    loss = 0\n",
    "    model.eval()\n",
    "    with torch.inference_mode():\n",
    "        for X, y in data_loader:\n",
    "            y_pred = model(X)\n",
    "            loss += loss_fn(y_pred.squeeze(), y).item()\n",
    "    loss /= len(data_loader)\n",
    "    print(f'Final loss: {loss:.5f}')"
   ]
  },
  {
   "cell_type": "code",
   "execution_count": 80,
   "metadata": {},
   "outputs": [
    {
     "name": "stdout",
     "output_type": "stream",
     "text": [
      "Epoch: 0\n",
      "-------------\n",
      "Train loss: 1.73668\n",
      "Test loss: 0.97755\n",
      "Epoch: 1\n",
      "-------------\n",
      "Train loss: 0.50603\n",
      "Test loss: 0.46431\n",
      "Epoch: 2\n",
      "-------------\n",
      "Train loss: 0.42117\n",
      "Test loss: 0.40637\n",
      "Epoch: 3\n",
      "-------------\n",
      "Train loss: 0.39214\n",
      "Test loss: 0.39388\n",
      "Epoch: 4\n",
      "-------------\n",
      "Train loss: 0.37681\n",
      "Test loss: 0.38053\n",
      "Epoch: 5\n",
      "-------------\n",
      "Train loss: 0.36673\n",
      "Test loss: 0.37743\n",
      "Epoch: 6\n",
      "-------------\n",
      "Train loss: 0.36074\n",
      "Test loss: 0.36652\n",
      "Epoch: 7\n",
      "-------------\n",
      "Train loss: 0.35511\n",
      "Test loss: 0.36521\n",
      "Epoch: 8\n",
      "-------------\n",
      "Train loss: 0.34989\n",
      "Test loss: 0.35520\n",
      "Epoch: 9\n",
      "-------------\n",
      "Train loss: 0.34551\n",
      "Test loss: 0.38308\n",
      "Epoch: 10\n",
      "-------------\n",
      "Train loss: 0.34130\n",
      "Test loss: 0.34966\n",
      "Epoch: 11\n",
      "-------------\n",
      "Train loss: 0.33668\n",
      "Test loss: 0.33897\n",
      "Epoch: 12\n",
      "-------------\n",
      "Train loss: 0.33150\n",
      "Test loss: 0.36208\n",
      "Epoch: 13\n",
      "-------------\n",
      "Train loss: 0.32793\n",
      "Test loss: 0.32877\n",
      "Epoch: 14\n",
      "-------------\n",
      "Train loss: 0.32241\n",
      "Test loss: 0.33106\n",
      "Epoch: 15\n",
      "-------------\n",
      "Train loss: 0.31968\n",
      "Test loss: 0.32062\n",
      "Epoch: 16\n",
      "-------------\n",
      "Train loss: 0.31625\n",
      "Test loss: 0.32590\n",
      "Epoch: 17\n",
      "-------------\n",
      "Train loss: 0.30975\n",
      "Test loss: 0.36389\n",
      "Epoch: 18\n",
      "-------------\n",
      "Train loss: 0.30709\n",
      "Test loss: 0.42126\n",
      "Epoch: 19\n",
      "-------------\n",
      "Train loss: 0.30708\n",
      "Test loss: 0.31151\n",
      "Epoch: 20\n",
      "-------------\n",
      "Train loss: 0.30221\n",
      "Test loss: 0.31302\n",
      "Epoch: 21\n",
      "-------------\n",
      "Train loss: 0.29806\n",
      "Test loss: 0.31274\n",
      "Epoch: 22\n",
      "-------------\n",
      "Train loss: 0.29625\n",
      "Test loss: 0.31151\n",
      "Epoch: 23\n",
      "-------------\n",
      "Train loss: 0.29499\n",
      "Test loss: 0.30876\n",
      "Epoch: 24\n",
      "-------------\n",
      "Train loss: 0.29101\n",
      "Test loss: 0.30909\n",
      "Epoch: 25\n",
      "-------------\n",
      "Train loss: 0.29083\n",
      "Test loss: 0.31524\n",
      "Epoch: 26\n",
      "-------------\n",
      "Train loss: 0.29148\n",
      "Test loss: 0.31079\n",
      "Epoch: 27\n",
      "-------------\n",
      "Train loss: 0.28987\n",
      "Test loss: 0.30532\n",
      "Epoch: 28\n",
      "-------------\n",
      "Train loss: 0.28764\n",
      "Test loss: 0.30348\n",
      "Epoch: 29\n",
      "-------------\n",
      "Train loss: 0.28852\n",
      "Test loss: 0.30341\n",
      "Epoch: 30\n",
      "-------------\n",
      "Train loss: 0.28544\n",
      "Test loss: 0.31799\n",
      "Epoch: 31\n",
      "-------------\n",
      "Train loss: 0.28548\n",
      "Test loss: 0.29863\n",
      "Epoch: 32\n",
      "-------------\n",
      "Train loss: 0.28567\n",
      "Test loss: 0.30925\n",
      "Epoch: 33\n",
      "-------------\n",
      "Train loss: 0.28504\n",
      "Test loss: 0.30781\n",
      "Epoch: 34\n",
      "-------------\n",
      "Train loss: 0.28319\n",
      "Test loss: 0.30803\n",
      "Epoch: 35\n",
      "-------------\n",
      "Train loss: 0.28166\n",
      "Test loss: 0.29935\n",
      "Epoch: 36\n",
      "-------------\n",
      "Train loss: 0.28101\n",
      "Test loss: 0.33718\n",
      "Epoch: 37\n",
      "-------------\n",
      "Train loss: 0.28183\n",
      "Test loss: 0.33550\n",
      "Epoch: 38\n",
      "-------------\n",
      "Train loss: 0.28169\n",
      "Test loss: 0.30363\n",
      "Epoch: 39\n",
      "-------------\n",
      "Train loss: 0.28164\n",
      "Test loss: 0.30994\n",
      "Epoch: 40\n",
      "-------------\n",
      "Train loss: 0.27914\n",
      "Test loss: 0.29730\n",
      "Epoch: 41\n",
      "-------------\n",
      "Train loss: 0.27810\n",
      "Test loss: 0.30695\n",
      "Epoch: 42\n",
      "-------------\n",
      "Train loss: 0.27945\n",
      "Test loss: 0.29567\n",
      "Epoch: 43\n",
      "-------------\n",
      "Train loss: 0.27785\n",
      "Test loss: 0.30590\n",
      "Epoch: 44\n",
      "-------------\n",
      "Train loss: 0.27871\n",
      "Test loss: 0.29572\n",
      "Epoch: 45\n",
      "-------------\n",
      "Train loss: 0.27714\n",
      "Test loss: 0.30250\n",
      "Epoch: 46\n",
      "-------------\n",
      "Train loss: 0.27800\n",
      "Test loss: 0.30537\n",
      "Epoch: 47\n",
      "-------------\n",
      "Train loss: 0.27487\n",
      "Test loss: 0.29256\n",
      "Epoch: 48\n",
      "-------------\n",
      "Train loss: 0.27468\n",
      "Test loss: 0.29040\n",
      "Epoch: 49\n",
      "-------------\n",
      "Train loss: 0.27465\n",
      "Test loss: 0.29116\n",
      "Evaluating model:\n",
      "\n",
      "Final loss: 0.29116\n"
     ]
    }
   ],
   "source": [
    "train_losses, test_losses, epoch_count = [], [], []\n",
    "for epoch in range(epochs):\n",
    "    print(f'Epoch: {epoch}\\n-------------')\n",
    "    train_loss = train_step(model, train_loader, loss_fn, optimizer)\n",
    "    test_loss = test_step(model, test_loader, loss_fn)\n",
    "    train_losses.append(train_loss)\n",
    "    test_losses.append(test_loss)\n",
    "    epoch_count.append(epoch)\n",
    "\n",
    "print(f'Evaluating model:\\n')\n",
    "eval_mode(model, test_loader, loss_fn)"
   ]
  },
  {
   "cell_type": "code",
   "execution_count": 84,
   "metadata": {},
   "outputs": [
    {
     "data": {
      "image/png": "[encoded data removed]",
      "text/plain": [
       "<Figure size 640x480 with 2 Axes>"
      ]
     },
     "metadata": {},
     "output_type": "display_data"
    }
   ],
   "source": [
    "plt.subplot(1, 2, 1)\n",
    "plt.plot(epoch_count, train_losses)\n",
    "plt.ylabel('Train loss')\n",
    "plt.xlabel('Epochs')\n",
    "plt.title('Train loss v/s Epochs')\n",
    "plt.subplot(1, 2, 2)\n",
    "plt.plot(epoch_count, test_losses)\n",
    "plt.ylabel('Test loss')\n",
    "plt.xlabel('Epochs')\n",
    "plt.title('Test loss v/s Epochs')\n",
    "plt.show()"
   ]
  }
 ],
 "metadata": {
  "kernelspec": {
   "display_name": "Python 3",
   "language": "python",
   "name": "python3"
  },
  "language_info": {
   "codemirror_mode": {
    "name": "ipython",
    "version": 3
   },
   "file_extension": ".py",
   "mimetype": "text/x-python",
   "name": "python",
   "nbconvert_exporter": "python",
   "pygments_lexer": "ipython3",
   "version": "3.11.5"
  }
 },
 "nbformat": 4,
 "nbformat_minor": 2
}
