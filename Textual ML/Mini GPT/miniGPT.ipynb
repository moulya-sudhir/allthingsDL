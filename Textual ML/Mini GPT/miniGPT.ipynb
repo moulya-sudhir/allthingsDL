{
 "cells": [
  {
   "cell_type": "code",
   "execution_count": 75,
   "metadata": {},
   "outputs": [],
   "source": [
    "import torch\n",
    "import numpy as np\n",
    "import random\n",
    "import matplotlib.pyplot as plt"
   ]
  },
  {
   "cell_type": "markdown",
   "metadata": {},
   "source": [
    "### Tokenize the text"
   ]
  },
  {
   "cell_type": "code",
   "execution_count": 61,
   "metadata": {},
   "outputs": [],
   "source": [
    "class Tokenizer:\n",
    "    def __init__(self):\n",
    "        self.dictionary = {}\n",
    "        self.reverse_dictionary = {}\n",
    "\n",
    "        # Add padding token\n",
    "        self.__add_to_dict('<pad>')\n",
    "\n",
    "        # Add characters and numbers to dictionary\n",
    "        for i in range(10):\n",
    "            self.__add_to_dict(str(i))\n",
    "        for i in range(26):\n",
    "            self.__add_to_dict(chr(ord('a') + i))\n",
    "        \n",
    "        # Add space and punctuation to dictionary\n",
    "        self.__add_to_dict('.')\n",
    "        self.__add_to_dict(' ')\n",
    "\n",
    "    def __add_to_dict(self, character):\n",
    "        if character not in self.dictionary:\n",
    "            self.dictionary[character] = len(self.dictionary)\n",
    "            self.reverse_dictionary[self.dictionary[character]] = character\n",
    "    \n",
    "    def tokenize(self, text):\n",
    "        return [self.dictionary[c] for c in text]\n",
    "    \n",
    "    def character_to_token(self, character):\n",
    "        return self.dictionary[character]\n",
    "    \n",
    "    def token_to_character(self, token):\n",
    "        return self.reverse_dictionary[token]\n",
    "    \n",
    "    def size(self):\n",
    "        return len(self.dictionary)"
   ]
  },
  {
   "cell_type": "markdown",
   "metadata": {},
   "source": [
    "### Dataset"
   ]
  },
  {
   "cell_type": "code",
   "execution_count": 62,
   "metadata": {},
   "outputs": [],
   "source": [
    "# Create training data\n",
    "training_data = '. '.join([\n",
    "    'cats rule the world',\n",
    "    'dogs are the best',\n",
    "    'elephants have long trunks',\n",
    "    'monkeys like bananas',\n",
    "    'pandas eat bamboo',\n",
    "    'tigers are dangerous',\n",
    "    'zebras have stripes',\n",
    "    'lions are the kings of the savannah',\n",
    "    'giraffes have long necks',\n",
    "    'hippos are big and scary',\n",
    "    'rhinos have horns',\n",
    "    'penguins live in the arctic',\n",
    "    'polar bears are white'\n",
    "])"
   ]
  },
  {
   "cell_type": "markdown",
   "metadata": {},
   "source": [
    "#### Input Embedding"
   ]
  },
  {
   "cell_type": "code",
   "execution_count": 63,
   "metadata": {},
   "outputs": [],
   "source": [
    "class TokenEmbedding(torch.nn.Module):\n",
    "    def __init__(self, d_model, number_of_tokens):\n",
    "        super().__init__()\n",
    "        self.embedding_layer = torch.nn.Embedding(\n",
    "            num_embeddings=number_of_tokens,\n",
    "            embedding_dim=d_model\n",
    "        )\n",
    "    def forward(self, x):\n",
    "        return self.embedding_layer(x)"
   ]
  },
  {
   "cell_type": "markdown",
   "metadata": {},
   "source": [
    "### Positional Encoding"
   ]
  },
  {
   "cell_type": "code",
   "execution_count": 64,
   "metadata": {},
   "outputs": [],
   "source": [
    "class PositionalEncoding(torch.nn.Module):\n",
    "    def __init__(self, d_model, max_sequence_length):\n",
    "        super().__init__()\n",
    "        self.d_model = d_model\n",
    "        self.max_sequence_length = max_sequence_length\n",
    "        self.positional_encoding = self.create_positional_encoding()\n",
    "    \n",
    "    def create_positional_encoding(self):\n",
    "        # Initialize positional encoding matrix\n",
    "        positional_encoding = np.zeros((self.max_sequence_length, self.d_model))\n",
    "\n",
    "        # Calculate positional encoding for each position and each dimension\n",
    "        for pos in range(self.max_sequence_length):\n",
    "            for i in range(0, self.d_model, 2):\n",
    "                # Apply sin to even indices in array\n",
    "                positional_encoding[pos, i] = np.sin(pos / (10000 ** ((2 * i) / self.d_model)))\n",
    "\n",
    "                if i+1 < self.d_model:\n",
    "                    # Apply cos to odd indices in array\n",
    "                    positional_encoding[pos, i] = np.cos(pos / (10000 ** ((2 * i) / self.d_model)))\n",
    "            \n",
    "        # Convert numpy array to PyTorch tensor and return it\n",
    "        return torch.from_numpy(positional_encoding).float()\n",
    "    \n",
    "    def forward(self, x):\n",
    "        return x + self.positional_encoding[:x.size(1), :]"
   ]
  },
  {
   "cell_type": "markdown",
   "metadata": {},
   "source": [
    "### Attention"
   ]
  },
  {
   "cell_type": "code",
   "execution_count": 65,
   "metadata": {},
   "outputs": [],
   "source": [
    "class MaskedSelfAttention(torch.nn.Module):\n",
    "    def __init__(self, embedding_dim, head_dim):\n",
    "        super().__init__()\n",
    "        self.embedding_dim = embedding_dim\n",
    "        self.head_dim = head_dim\n",
    "        self.query_layer = torch.nn.Linear(embedding_dim, self.head_dim)\n",
    "        self.key_layer = torch.nn.Linear(embedding_dim, self.head_dim)\n",
    "        self.value_layer = torch.nn.Linear(embedding_dim, self.head_dim)\n",
    "        self.softmax = torch.nn.Softmax(dim=1)\n",
    "    \n",
    "    def forward(self, x, mask):\n",
    "        query = self.query_layer(x)\n",
    "        key = self.key_layer(x)\n",
    "        value = self.value_layer(x)\n",
    "\n",
    "        # Calculate attention weights\n",
    "        attention_weights = torch.matmul(query, key.transpose(-2, -1))\n",
    "\n",
    "        # Scale attention weights\n",
    "        attention_weights /= np.sqrt(self.head_dim)\n",
    "\n",
    "        # Apply mask to attention weights, setting masked tokens to very low value\n",
    "        mask = mask.reshape(attention_weights.shape[0], 1, attention_weights.shape[2])\n",
    "        attention_weights = attention_weights.masked_fill(mask == 0, -1e9)\n",
    "\n",
    "        # Softmax to bring scores between 0 and 1 and sum to 1\n",
    "        attention_scores = self.softmax(attention_weights)\n",
    "\n",
    "        # Multiply attention scores with value\n",
    "        return torch.bmm(attention_scores, value)"
   ]
  },
  {
   "cell_type": "markdown",
   "metadata": {},
   "source": [
    "### Multi-head Attention"
   ]
  },
  {
   "cell_type": "code",
   "execution_count": 66,
   "metadata": {},
   "outputs": [],
   "source": [
    "class MaskedMultiHeadedSelfAttention(torch.nn.Module):\n",
    "    def __init__(self, embedding_dim, number_of_heads):\n",
    "        super().__init__()\n",
    "        self.embedding_dim = embedding_dim\n",
    "        self.head_dimension = embedding_dim // number_of_heads\n",
    "        self.number_of_heads = number_of_heads\n",
    "\n",
    "        # Create self attention modules\n",
    "        self.self_attentions = torch.nn.ModuleList([\n",
    "            MaskedSelfAttention(embedding_dim, self.head_dimension) for _ in range(number_of_heads)\n",
    "        ])\n",
    "\n",
    "        # Create linear layer to combine outputs of self attention modules\n",
    "        self.output_layer = torch.nn.Linear(number_of_heads * self.head_dimension, embedding_dim)\n",
    "    \n",
    "    def forward(self, x, mask):\n",
    "        # Compute self attention for each head\n",
    "        self_attention_outputs = [self_attention(x, mask) for self_attention in self.self_attentions]\n",
    "        # Concatenate self attention outputs\n",
    "        concatenated_self_attention_outputs = torch.cat(self_attention_outputs, dim=2)\n",
    "        # Apply output layer to result\n",
    "        return self.output_layer(concatenated_self_attention_outputs)"
   ]
  },
  {
   "cell_type": "markdown",
   "metadata": {},
   "source": [
    "### The Decoder"
   ]
  },
  {
   "cell_type": "code",
   "execution_count": 67,
   "metadata": {},
   "outputs": [],
   "source": [
    "class FeedForward(torch.nn.Module):\n",
    "    def __init__(self, embedding_dim, feed_forward_dim):\n",
    "        super().__init__()\n",
    "        self.embedding_dim = embedding_dim\n",
    "        self.feed_forward_dim = feed_forward_dim\n",
    "        self.linear1 = torch.nn.Linear(embedding_dim, feed_forward_dim)\n",
    "        self.linear2 = torch.nn.Linear(feed_forward_dim, embedding_dim)\n",
    "    \n",
    "    def forward(self, x):\n",
    "        return self.linear2(torch.relu(self.linear1(x)))"
   ]
  },
  {
   "cell_type": "code",
   "execution_count": 68,
   "metadata": {},
   "outputs": [],
   "source": [
    "class DecoderLayer(torch.nn.Module):\n",
    "    def __init__(self, embedding_dim, number_of_heads, feed_forward_dim, dropout_rate):\n",
    "        super().__init__()\n",
    "        self.embedding_dim = embedding_dim\n",
    "        self.number_of_heads = number_of_heads\n",
    "        self.feed_forward_dim = feed_forward_dim\n",
    "        self.dropout_rate = dropout_rate\n",
    "\n",
    "        self.multi_headed_self_attention = MaskedMultiHeadedSelfAttention(embedding_dim, number_of_heads)\n",
    "        self.feed_forward = FeedForward(embedding_dim, feed_forward_dim)\n",
    "        self.dropout = torch.nn.Dropout(dropout_rate)\n",
    "        self.layer_normalization1 = torch.nn.LayerNorm(embedding_dim)\n",
    "        self.layer_normalization2 = torch.nn.LayerNorm(embedding_dim)\n",
    "    \n",
    "    def forward(self, x, mask):\n",
    "        # Layer normalization 1\n",
    "        normalized_x = self.layer_normalization1(x)\n",
    "        # Multi headed self attention\n",
    "        attention_output = self.multi_headed_self_attention(normalized_x, mask)\n",
    "        # Residual output\n",
    "        residual_output = x + attention_output\n",
    "        # Layer normalization 2\n",
    "        normalized_residual_output = self.layer_normalization2(residual_output)\n",
    "        # Feed forward\n",
    "        feed_forward_output = self.feed_forward(normalized_residual_output)\n",
    "        # Dropout, only when training\n",
    "        if self.training:\n",
    "            feed_forward_output = self.dropout(feed_forward_output)\n",
    "        # Residual output\n",
    "        return residual_output + feed_forward_output"
   ]
  },
  {
   "cell_type": "code",
   "execution_count": 69,
   "metadata": {},
   "outputs": [],
   "source": [
    "class DecoderStack(torch.nn.Module):\n",
    "    def __init__(self, embedding_dim, number_of_layers, number_of_heads, feed_forward_dim, dropout_rate, max_sequence_length):\n",
    "        super().__init__()\n",
    "        self.embedding_dim = embedding_dim\n",
    "        self.number_of_layers = number_of_layers\n",
    "        self.number_of_heads = number_of_heads\n",
    "        self.feed_forward_dim = feed_forward_dim\n",
    "        self.dropout_rate = dropout_rate\n",
    "        self.max_sequence_length = max_sequence_length\n",
    "\n",
    "        # Create encoder layers\n",
    "        self.encoder_layers = torch.nn.ModuleList([\n",
    "            DecoderLayer(embedding_dim, number_of_heads, feed_forward_dim, dropout_rate) for _ in range(number_of_layers)\n",
    "        ])\n",
    "    \n",
    "    def forward(self, x, mask):\n",
    "        decoder_outputs = x\n",
    "        for decoder_layer in self.encoder_layers:\n",
    "            decoder_outputs = decoder_layer(decoder_outputs, mask)\n",
    "        return decoder_outputs"
   ]
  },
  {
   "cell_type": "markdown",
   "metadata": {},
   "source": [
    "### The Model"
   ]
  },
  {
   "cell_type": "code",
   "execution_count": 70,
   "metadata": {},
   "outputs": [],
   "source": [
    "class LMHead(torch.nn.Module):\n",
    "    def __init__(self, embedding_dim, number_of_tokens):\n",
    "        super().__init__()\n",
    "        self.embedding_dim = embedding_dim\n",
    "        self.number_of_tokens = number_of_tokens\n",
    "        self.linear = torch.nn.Linear(embedding_dim, number_of_tokens)\n",
    "\n",
    "    def forward(self, x):\n",
    "        linear_output = self.linear(x)\n",
    "        return linear_output"
   ]
  },
  {
   "cell_type": "code",
   "execution_count": 71,
   "metadata": {},
   "outputs": [],
   "source": [
    "class LanguageModel(torch.nn.Module):\n",
    "    def __init__(self,\n",
    "                 number_of_tokens,\n",
    "                 max_sequence_length = 512,\n",
    "                 embedding_dim = 512,\n",
    "                 number_of_layers = 6,\n",
    "                 number_of_heads = 4,\n",
    "                 feed_forward_dim = None,\n",
    "                 dropout_rate = 0.1):\n",
    "        super().__init__()\n",
    "        self.number_of_tokens = number_of_tokens\n",
    "        self.max_sequence_length = max_sequence_length\n",
    "        self.embedding_dim = embedding_dim\n",
    "        self.number_of_layers = number_of_layers\n",
    "        self.number_of_heads = number_of_heads\n",
    "\n",
    "        if feed_forward_dim is None:\n",
    "            self.feed_forward_dim = embedding_dim * 4\n",
    "        else:\n",
    "            self.feed_forward_dim = feed_forward_dim\n",
    "        \n",
    "        self.dropout_rate = dropout_rate\n",
    "\n",
    "        # Create token embedding layer\n",
    "        self.token_embedding = TokenEmbedding(embedding_dim, self.number_of_tokens)\n",
    "        # Create positional encoding layer\n",
    "        self.positional_encoding = PositionalEncoding(embedding_dim, self.max_sequence_length)\n",
    "        # Create normalization layer\n",
    "        self.layer_normalization = torch.nn.LayerNorm(embedding_dim)\n",
    "        # Create decoder stack\n",
    "        self.decoder = DecoderStack(\n",
    "            embedding_dim, number_of_layers, number_of_heads, self.feed_forward_dim, dropout_rate, max_sequence_length\n",
    "        )\n",
    "        # Create language model head\n",
    "        self.lm_head = LMHead(embedding_dim, number_of_tokens)\n",
    "    \n",
    "    def forward(self, x, mask):\n",
    "        token_embeddings = self.token_embedding(x)\n",
    "        positional_encoding = self.positional_encoding(token_embeddings)\n",
    "        positional_encoding_normalized = self.layer_normalization(positional_encoding)\n",
    "        decoder_outputs = self.decoder(positional_encoding_normalized, mask)\n",
    "        lm_head_outputs = self.lm_head(decoder_outputs)\n",
    "\n",
    "        return lm_head_outputs"
   ]
  },
  {
   "cell_type": "markdown",
   "metadata": {},
   "source": [
    "### Auto Regressive Wrapper"
   ]
  },
  {
   "cell_type": "code",
   "execution_count": 76,
   "metadata": {},
   "outputs": [],
   "source": [
    "class AutoRegressiveWrapper(torch.nn.Module):\n",
    "    def __init__(self, gpt_model):\n",
    "        super().__init__()\n",
    "        self.model = gpt_model\n",
    "        self.max_sequence_length = self.model.max_sequence_length\n",
    "    \n",
    "    def forward(self, x, mask):\n",
    "        inp, target = x[:, :-1], x[:, 1:]\n",
    "        mask = mask[:, :-1]\n",
    "        output = self.model(inp, mask)\n",
    "        return output, target\n",
    "    \n",
    "    def next_token_probabilities(self, x, mask, temperature = 1.0):\n",
    "        logits = self.model(x, mask)[:, -1]\n",
    "        # Apply temperature \n",
    "        if temperature!=1.0:\n",
    "            logits = logits / temperature\n",
    "        # Apply softmax\n",
    "        probabilities = torch.softmax(logits, dim=-1)\n",
    "\n",
    "        return probabilities"
   ]
  },
  {
   "cell_type": "markdown",
   "metadata": {},
   "source": [
    "### Trainer"
   ]
  },
  {
   "cell_type": "code",
   "execution_count": 79,
   "metadata": {},
   "outputs": [],
   "source": [
    "class Trainer:\n",
    "    def __init__(self, model, tokenizer, optimizer = None):\n",
    "        self.model = model\n",
    "        if optimizer is None:\n",
    "            self.optimizer = torch.optim.Adam(model.parameters(), lr = 0.0001)\n",
    "        else:\n",
    "            self.optimizer = optimizer\n",
    "        self.tokenizer = tokenizer\n",
    "        self.loss_function = torch.nn.CrossEntropyLoss()\n",
    "    \n",
    "    def train(self, data, epochs, batch_size):\n",
    "        loss_per_epoch = []\n",
    "        for epoch in range(epochs):\n",
    "            losses = []\n",
    "            # Shuffle the sequences\n",
    "            random.shuffle(data)\n",
    "            # Create batches and masks\n",
    "            batches = []\n",
    "            for i in range(0, len(data), batch_size):\n",
    "                sequence_tensor = torch.tensor(data[i: i+batch_size], dtype=torch.long)\n",
    "                # Create mask: 0 - pad, 1 - not pad\n",
    "                mask_tensor = torch.ones_like(sequence_tensor)\n",
    "                mask_tensor[sequence_tensor == self.tokenizer.character_to_token('<pad>')] = 0\n",
    "\n",
    "                batches.append((sequence_tensor, mask_tensor))\n",
    "            \n",
    "            # Train model\n",
    "            for batch in batches:\n",
    "                self.model.train()\n",
    "\n",
    "                # Create input and mask tensors\n",
    "                input_tensor = torch.zeros((batch_size, self.model.max_sequence_length + 1), dtype=torch.long)\n",
    "                mask_tensor = torch.zeros((batch_size, self.model.max_sequence_length + 1), dtype=torch.long)\n",
    "\n",
    "                for i, input_entry in enumerate(batch[0]):\n",
    "                    input_tensor[i] = input_entry\n",
    "                for i, mask_entry in enumerate(batch[1]):\n",
    "                    mask_tensor[i] = mask_entry\n",
    "                \n",
    "                # Compute model output\n",
    "                model_output, target = self.model.forward(x = input_tensor, mask = mask_tensor)\n",
    "\n",
    "                # Compute loss\n",
    "                loss = self.loss_function(model_output.transpose(1, 2), target)\n",
    "\n",
    "                loss.backward()\n",
    "\n",
    "                # Clip gradients\n",
    "                torch.nn.utils.clip_grad_norm(self.model.parameters(), 0.5)\n",
    "                self.optimizer.step()\n",
    "                self.optimizer.zero_grad()\n",
    "                losses.append(loss.item())\n",
    "            \n",
    "            # Print epoch loss\n",
    "            epoch_loss = np.average(losses)\n",
    "            loss_per_epoch.append(epoch_loss)\n",
    "            print(f'Epoch: {epoch} | Loss: {epoch_loss:.5f}')\n",
    "        \n",
    "        return loss_per_epoch"
   ]
  },
  {
   "cell_type": "code",
   "execution_count": 81,
   "metadata": {},
   "outputs": [
    {
     "name": "stderr",
     "output_type": "stream",
     "text": [
      "/var/folders/yz/4zp0zzb50w71fn6jwfwny__c0000gn/T/ipykernel_69918/1904197364.py:49: UserWarning: torch.nn.utils.clip_grad_norm is now deprecated in favor of torch.nn.utils.clip_grad_norm_.\n",
      "  torch.nn.utils.clip_grad_norm(self.model.parameters(), 0.5)\n"
     ]
    },
    {
     "name": "stdout",
     "output_type": "stream",
     "text": [
      "Epoch: 0 | Loss: 2.03018\n",
      "Epoch: 1 | Loss: 1.39023\n",
      "Epoch: 2 | Loss: 1.02022\n",
      "Epoch: 3 | Loss: 0.78660\n",
      "Epoch: 4 | Loss: 0.64640\n",
      "Epoch: 5 | Loss: 0.52037\n",
      "Epoch: 6 | Loss: 0.38283\n",
      "Epoch: 7 | Loss: 0.24344\n",
      "Epoch: 8 | Loss: 0.17030\n",
      "Epoch: 9 | Loss: 0.13031\n",
      "Epoch: 10 | Loss: 0.10301\n",
      "Epoch: 11 | Loss: 0.08088\n",
      "Epoch: 12 | Loss: 0.06356\n",
      "Epoch: 13 | Loss: 0.05918\n",
      "Epoch: 14 | Loss: 0.04382\n",
      "Epoch: 15 | Loss: 0.04285\n",
      "Epoch: 16 | Loss: 0.03146\n",
      "Epoch: 17 | Loss: 0.02687\n",
      "Epoch: 18 | Loss: 0.02529\n",
      "Epoch: 19 | Loss: 0.02007\n",
      "Epoch: 20 | Loss: 0.01881\n",
      "Epoch: 21 | Loss: 0.01442\n",
      "Epoch: 22 | Loss: 0.01344\n",
      "Epoch: 23 | Loss: 0.01229\n",
      "Epoch: 24 | Loss: 0.01487\n",
      "Epoch: 25 | Loss: 0.01021\n",
      "Epoch: 26 | Loss: 0.01754\n",
      "Epoch: 27 | Loss: 0.01223\n",
      "Epoch: 28 | Loss: 0.01048\n",
      "Epoch: 29 | Loss: 0.01349\n",
      "Epoch: 30 | Loss: 0.00691\n",
      "Epoch: 31 | Loss: 0.00542\n",
      "Epoch: 32 | Loss: 0.00459\n",
      "Epoch: 33 | Loss: 0.00813\n",
      "Epoch: 34 | Loss: 0.01177\n",
      "Epoch: 35 | Loss: 0.00988\n",
      "Epoch: 36 | Loss: 0.00917\n",
      "Epoch: 37 | Loss: 0.00796\n",
      "Epoch: 38 | Loss: 0.00357\n",
      "Epoch: 39 | Loss: 0.00417\n",
      "Epoch: 40 | Loss: 0.00176\n",
      "Epoch: 41 | Loss: 0.00334\n",
      "Epoch: 42 | Loss: 0.00705\n",
      "Epoch: 43 | Loss: 0.00201\n",
      "Epoch: 44 | Loss: 0.00330\n",
      "Epoch: 45 | Loss: 0.00177\n",
      "Epoch: 46 | Loss: 0.00223\n",
      "Epoch: 47 | Loss: 0.00884\n",
      "Epoch: 48 | Loss: 0.00613\n",
      "Epoch: 49 | Loss: 0.00953\n"
     ]
    }
   ],
   "source": [
    "def create_training_sequence(max_sequence_length, tokenized_training_data):\n",
    "    sequences = []\n",
    "    for i in range(0, len(tokenized_training_data) - max_sequence_length - 1):\n",
    "        sequences.append(tokenized_training_data[i:i+max_sequence_length+1])\n",
    "    return sequences\n",
    "\n",
    "def tokenize_and_pad_training_data(max_sequence_length, tokenizer, training_data):\n",
    "    tokenized_training_data = tokenizer.tokenize(training_data)\n",
    "    for _ in range(max_sequence_length):\n",
    "        tokenized_training_data.insert(0, tokenizer.character_to_token('<pad>'))\n",
    "    return tokenized_training_data\n",
    "\n",
    "tokenizer = Tokenizer()\n",
    "embedding_dim = 512\n",
    "max_sequence_length = 20\n",
    "number_of_tokens = tokenizer.size()\n",
    "\n",
    "# Create model\n",
    "model = AutoRegressiveWrapper(LanguageModel(\n",
    "    embedding_dim=embedding_dim,\n",
    "    number_of_tokens=number_of_tokens,\n",
    "    number_of_heads=4,\n",
    "    number_of_layers=3,\n",
    "    dropout_rate=0.1,\n",
    "    max_sequence_length=max_sequence_length\n",
    "))\n",
    "\n",
    "# Create training data\n",
    "tokenized_and_padded_training_data = tokenize_and_pad_training_data(max_sequence_length, tokenizer, training_data)\n",
    "sequences = create_training_sequence(max_sequence_length, tokenized_and_padded_training_data)\n",
    "\n",
    "# Train the model\n",
    "optimizer = torch.optim.Adam(model.parameters(), lr = 0.0001)\n",
    "trainer = Trainer(model, tokenizer, optimizer)\n",
    "loss_per_epoch = trainer.train(sequences, epochs = 50, batch_size = 8)"
   ]
  },
  {
   "cell_type": "code",
   "execution_count": 82,
   "metadata": {},
   "outputs": [
    {
     "data": {
      "image/png": "[encoded data removed]",
      "text/plain": [
       "<Figure size 640x480 with 1 Axes>"
      ]
     },
     "metadata": {},
     "output_type": "display_data"
    }
   ],
   "source": [
    "plt.plot(loss_per_epoch)\n",
    "plt.yscale('log')\n",
    "plt.ylabel('Loss')\n",
    "plt.xlabel('Epoch')\n",
    "plt.show()"
   ]
  },
  {
   "cell_type": "markdown",
   "metadata": {},
   "source": [
    "### Generator"
   ]
  },
  {
   "cell_type": "code",
   "execution_count": 83,
   "metadata": {},
   "outputs": [],
   "source": [
    "def pad_left(sequence, final_length, padding_token):\n",
    "    return [padding_token] * (final_length - len(sequence)) + sequence\n",
    "\n",
    "class Generator:\n",
    "    def __init__(self, model, tokenizer):\n",
    "        self.model = model\n",
    "        self.tokenizer = tokenizer\n",
    "    \n",
    "    def generate(self, max_tokens_to_generate, prompt = None, temperature = 1.0, eos_token = None, padding_token = 0):\n",
    "        self.model.eval()\n",
    "        if prompt is None:\n",
    "            start_tokens = [self.tokenizer.character_to_token(padding_token)]\n",
    "        else:\n",
    "            start_tokens = self.tokenizer.tokenize(prompt)\n",
    "        \n",
    "        input_tensor = torch.tensor(pad_left(sequence=start_tokens, final_length=self.model.max_sequence_length + 1, padding_token=padding_token), dtype=torch.long)\n",
    "        num_dims = len(input_tensor.shape)\n",
    "        if num_dims == 1:\n",
    "            input_tensor = input_tensor[None, :]\n",
    "\n",
    "        out = input_tensor\n",
    "        for _ in range(max_tokens_to_generate):\n",
    "            x = out[:, -self.model.max_sequence_length:]\n",
    "            mask = torch.ones_like(x)\n",
    "            mask[x == padding_token] = 0\n",
    "            next_token_probabilites = self.model.next_token_probabilities(x=x, temperature = temperature, mask = mask)\n",
    "            next_token = torch.multinomial(next_token_probabilites, num_samples=1)\n",
    "            out = torch.cat([out, next_token], dim=1)\n",
    "            if eos_token is not None and next_token == eos_token:\n",
    "                break\n",
    "        generated_tokens = out[0].tolist()\n",
    "        return ''.join([self.tokenizer.token_to_character(token) for token in generated_tokens])    "
   ]
  },
  {
   "cell_type": "code",
   "execution_count": 87,
   "metadata": {},
   "outputs": [
    {
     "name": "stdout",
     "output_type": "stream",
     "text": [
      "elephants have long trunks. monkeys like bananas. pandas e\n"
     ]
    }
   ],
   "source": [
    "max_tokens_to_generate = 50\n",
    "generator = Generator(model, tokenizer)\n",
    "generated_text = generator.generate(\n",
    "    max_tokens_to_generate = max_tokens_to_generate,\n",
    "    prompt = 'elephant',\n",
    "    padding_token = tokenizer.character_to_token('<pad>')\n",
    ")\n",
    "print(generated_text.replace('<pad>', ''))"
   ]
  }
 ],
 "metadata": {
  "kernelspec": {
   "display_name": "Python 3",
   "language": "python",
   "name": "python3"
  },
  "language_info": {
   "codemirror_mode": {
    "name": "ipython",
    "version": 3
   },
   "file_extension": ".py",
   "mimetype": "text/x-python",
   "name": "python",
   "nbconvert_exporter": "python",
   "pygments_lexer": "ipython3",
   "version": "3.11.5"
  }
 },
 "nbformat": 4,
 "nbformat_minor": 2
}
